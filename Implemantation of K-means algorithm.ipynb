{
 "cells": [
  {
   "cell_type": "code",
   "execution_count": 213,
   "metadata": {},
   "outputs": [
    {
     "name": "stdout",
     "output_type": "stream",
     "text": [
      "Requirement already satisfied: pandas in c:\\users\\35796\\appdata\\local\\programs\\python\\python311\\lib\\site-packages (2.2.3)\n",
      "Requirement already satisfied: numpy>=1.23.2 in c:\\users\\35796\\appdata\\local\\programs\\python\\python311\\lib\\site-packages (from pandas) (1.26.4)\n",
      "Requirement already satisfied: python-dateutil>=2.8.2 in c:\\users\\35796\\appdata\\roaming\\python\\python311\\site-packages (from pandas) (2.9.0.post0)\n",
      "Requirement already satisfied: pytz>=2020.1 in c:\\users\\35796\\appdata\\local\\programs\\python\\python311\\lib\\site-packages (from pandas) (2024.2)\n",
      "Requirement already satisfied: tzdata>=2022.7 in c:\\users\\35796\\appdata\\local\\programs\\python\\python311\\lib\\site-packages (from pandas) (2024.2)\n",
      "Requirement already satisfied: six>=1.5 in c:\\users\\35796\\appdata\\roaming\\python\\python311\\site-packages (from python-dateutil>=2.8.2->pandas) (1.16.0)\n",
      "   Id  SepalLengthCm  SepalWidthCm  PetalLengthCm  PetalWidthCm      Species\n",
      "0   1            5.1           3.5            1.4           0.2  Iris-setosa\n",
      "1   2            4.9           3.0            1.4           0.2  Iris-setosa\n",
      "2   3            4.7           3.2            1.3           0.2  Iris-setosa\n",
      "3   4            4.6           3.1            1.5           0.2  Iris-setosa\n",
      "4   5            5.0           3.6            1.4           0.2  Iris-setosa\n"
     ]
    }
   ],
   "source": [
    "!pip install pandas\n",
    "import pandas as pd\n",
    "\n",
    "data = pd.read_csv('./Iris.csv')\n",
    "print(data.head())"
   ]
  },
  {
   "cell_type": "code",
   "execution_count": 214,
   "metadata": {},
   "outputs": [],
   "source": [
    "import random\n",
    "import math\n",
    "\n",
    "data1 = data.iloc[:, 1:5]\n",
    "\n",
    "def kmeans(data,n_clusters, tol):\n",
    "    c= []\n",
    "    for i in range(n_clusters): \n",
    "        c.append([random.uniform(data.iloc[:,j].min(),data.iloc[:,j].max()) for j in range(len(data.columns))])\n",
    "\n",
    "   \n",
    "\n",
    "    distances = [[0 for i in range(n_clusters)] for j in range(len(data))]\n",
    "    cluster = [-1 for i in range(len(data))]\n",
    "\n",
    "    \n",
    "    while True:\n",
    "        for i in range(len(data)):\n",
    "            dist = 1000\n",
    "            for j in range(n_clusters):\n",
    "                distances[i][j] = math.sqrt(sum([(data.iloc[i,k] - c[j][k])**2 for k in range(len(data.columns))]))\n",
    "                if distances[i][j] < dist:\n",
    "                    dist = distances[i][j]\n",
    "                    cluster[i] = j\n",
    "\n",
    "        new_c = [[0 for j in range(len(data.columns))] for i in range(n_clusters)]\n",
    "        counter = [0 for i in range(n_clusters)]\n",
    "\n",
    "        for i in range(len(cluster)):\n",
    "            new_c[cluster[i]] =[new_c[cluster[i]][j] + [data.iloc[i,j] for j in range(len(data.columns))][j] for j in range(len(data.columns))]\n",
    "            counter[cluster[i]] += 1\n",
    "\n",
    "        for i in range(len(new_c)):\n",
    "            for j in range(len(data.columns)):\n",
    "                    if counter[i] != 0:\n",
    "                        new_c[i][j] = new_c[i][j] / counter[i]\n",
    "                    else:\n",
    "                        new_c[i][j] = c[i][j]\n",
    "\n",
    "        if math.sqrt(sum([sum([(c[j][k] - new_c[j][k])**2 for k in range(len(data.columns))]) for j in range(n_clusters)])) < tol:\n",
    "            return cluster, new_c\n",
    "        \n",
    "        c = new_c\n",
    "            \n",
    "y_pred, centers = kmeans(data1,3,0.0001)\n"
   ]
  },
  {
   "cell_type": "code",
   "execution_count": 215,
   "metadata": {},
   "outputs": [
    {
     "name": "stdout",
     "output_type": "stream",
     "text": [
      "150\n",
      "[1, 1, 1, 1, 1, 1, 1, 1, 1, 1, 1, 1, 1, 1, 1, 1, 1, 1, 1, 1, 1, 1, 1, 1, 1, 1, 1, 1, 1, 1, 1, 1, 1, 1, 1, 1, 1, 1, 1, 1, 1, 1, 1, 1, 1, 1, 1, 1, 1, 1, 2, 0, 2, 0, 0, 0, 0, 0, 0, 0, 0, 0, 0, 0, 0, 0, 0, 0, 0, 0, 0, 0, 0, 0, 0, 0, 0, 2, 0, 0, 0, 0, 0, 0, 0, 0, 0, 0, 0, 0, 0, 0, 0, 0, 0, 0, 0, 0, 0, 0, 2, 0, 2, 2, 2, 2, 0, 2, 2, 2, 2, 2, 2, 0, 0, 2, 2, 2, 2, 0, 2, 0, 2, 0, 2, 2, 0, 0, 2, 2, 2, 2, 2, 0, 2, 2, 2, 2, 0, 2, 2, 2, 0, 2, 2, 2, 0, 2, 2, 0]\n"
     ]
    }
   ],
   "source": [
    "print(len(y_pred))\n",
    "print(y_pred)"
   ]
  },
  {
   "cell_type": "code",
   "execution_count": 216,
   "metadata": {},
   "outputs": [
    {
     "name": "stdout",
     "output_type": "stream",
     "text": [
      "['Iris-setosa' 'Iris-setosa' 'Iris-setosa' 'Iris-setosa' 'Iris-setosa'\n",
      " 'Iris-setosa' 'Iris-setosa' 'Iris-setosa' 'Iris-setosa' 'Iris-setosa'\n",
      " 'Iris-setosa' 'Iris-setosa' 'Iris-setosa' 'Iris-setosa' 'Iris-setosa'\n",
      " 'Iris-setosa' 'Iris-setosa' 'Iris-setosa' 'Iris-setosa' 'Iris-setosa'\n",
      " 'Iris-setosa' 'Iris-setosa' 'Iris-setosa' 'Iris-setosa' 'Iris-setosa'\n",
      " 'Iris-setosa' 'Iris-setosa' 'Iris-setosa' 'Iris-setosa' 'Iris-setosa'\n",
      " 'Iris-setosa' 'Iris-setosa' 'Iris-setosa' 'Iris-setosa' 'Iris-setosa'\n",
      " 'Iris-setosa' 'Iris-setosa' 'Iris-setosa' 'Iris-setosa' 'Iris-setosa'\n",
      " 'Iris-setosa' 'Iris-setosa' 'Iris-setosa' 'Iris-setosa' 'Iris-setosa'\n",
      " 'Iris-setosa' 'Iris-setosa' 'Iris-setosa' 'Iris-setosa' 'Iris-setosa'\n",
      " 'Iris-versicolor' 'Iris-versicolor' 'Iris-versicolor' 'Iris-versicolor'\n",
      " 'Iris-versicolor' 'Iris-versicolor' 'Iris-versicolor' 'Iris-versicolor'\n",
      " 'Iris-versicolor' 'Iris-versicolor' 'Iris-versicolor' 'Iris-versicolor'\n",
      " 'Iris-versicolor' 'Iris-versicolor' 'Iris-versicolor' 'Iris-versicolor'\n",
      " 'Iris-versicolor' 'Iris-versicolor' 'Iris-versicolor' 'Iris-versicolor'\n",
      " 'Iris-versicolor' 'Iris-versicolor' 'Iris-versicolor' 'Iris-versicolor'\n",
      " 'Iris-versicolor' 'Iris-versicolor' 'Iris-versicolor' 'Iris-versicolor'\n",
      " 'Iris-versicolor' 'Iris-versicolor' 'Iris-versicolor' 'Iris-versicolor'\n",
      " 'Iris-versicolor' 'Iris-versicolor' 'Iris-versicolor' 'Iris-versicolor'\n",
      " 'Iris-versicolor' 'Iris-versicolor' 'Iris-versicolor' 'Iris-versicolor'\n",
      " 'Iris-versicolor' 'Iris-versicolor' 'Iris-versicolor' 'Iris-versicolor'\n",
      " 'Iris-versicolor' 'Iris-versicolor' 'Iris-versicolor' 'Iris-versicolor'\n",
      " 'Iris-versicolor' 'Iris-versicolor' 'Iris-virginica' 'Iris-virginica'\n",
      " 'Iris-virginica' 'Iris-virginica' 'Iris-virginica' 'Iris-virginica'\n",
      " 'Iris-virginica' 'Iris-virginica' 'Iris-virginica' 'Iris-virginica'\n",
      " 'Iris-virginica' 'Iris-virginica' 'Iris-virginica' 'Iris-virginica'\n",
      " 'Iris-virginica' 'Iris-virginica' 'Iris-virginica' 'Iris-virginica'\n",
      " 'Iris-virginica' 'Iris-virginica' 'Iris-virginica' 'Iris-virginica'\n",
      " 'Iris-virginica' 'Iris-virginica' 'Iris-virginica' 'Iris-virginica'\n",
      " 'Iris-virginica' 'Iris-virginica' 'Iris-virginica' 'Iris-virginica'\n",
      " 'Iris-virginica' 'Iris-virginica' 'Iris-virginica' 'Iris-virginica'\n",
      " 'Iris-virginica' 'Iris-virginica' 'Iris-virginica' 'Iris-virginica'\n",
      " 'Iris-virginica' 'Iris-virginica' 'Iris-virginica' 'Iris-virginica'\n",
      " 'Iris-virginica' 'Iris-virginica' 'Iris-virginica' 'Iris-virginica'\n",
      " 'Iris-virginica' 'Iris-virginica' 'Iris-virginica' 'Iris-virginica']\n"
     ]
    }
   ],
   "source": [
    "true_labels = data.iloc[:, 5].values\n",
    "print(true_labels)"
   ]
  },
  {
   "cell_type": "code",
   "execution_count": 217,
   "metadata": {},
   "outputs": [],
   "source": [
    "import numpy as np\n",
    "for i in np.unique(true_labels):\n",
    "    if i == 'Iris-setosa':\n",
    "        true_labels[true_labels == i] = 0\n",
    "    elif i == 'Iris-versicolor':\n",
    "        true_labels[true_labels == i] = 1\n",
    "    else:\n",
    "        true_labels[true_labels == i] = 2\n"
   ]
  },
  {
   "cell_type": "code",
   "execution_count": 218,
   "metadata": {},
   "outputs": [
    {
     "name": "stdout",
     "output_type": "stream",
     "text": [
      "object\n"
     ]
    }
   ],
   "source": [
    "print(true_labels.dtype)\n"
   ]
  },
  {
   "cell_type": "code",
   "execution_count": 219,
   "metadata": {},
   "outputs": [
    {
     "name": "stdout",
     "output_type": "stream",
     "text": [
      "int32\n",
      "[0 0 0 0 0 0 0 0 0 0 0 0 0 0 0 0 0 0 0 0 0 0 0 0 0 0 0 0 0 0 0 0 0 0 0 0 0\n",
      " 0 0 0 0 0 0 0 0 0 0 0 0 0 1 1 1 1 1 1 1 1 1 1 1 1 1 1 1 1 1 1 1 1 1 1 1 1\n",
      " 1 1 1 1 1 1 1 1 1 1 1 1 1 1 1 1 1 1 1 1 1 1 1 1 1 1 2 2 2 2 2 2 2 2 2 2 2\n",
      " 2 2 2 2 2 2 2 2 2 2 2 2 2 2 2 2 2 2 2 2 2 2 2 2 2 2 2 2 2 2 2 2 2 2 2 2 2\n",
      " 2 2]\n",
      "150\n"
     ]
    }
   ],
   "source": [
    "true_labels = true_labels.astype('int32')\n",
    "print(true_labels.dtype)\n",
    "print(true_labels)\n",
    "print(len(true_labels))"
   ]
  },
  {
   "cell_type": "code",
   "execution_count": 220,
   "metadata": {},
   "outputs": [],
   "source": [
    "y_pred = np.array(y_pred)"
   ]
  },
  {
   "cell_type": "code",
   "execution_count": 221,
   "metadata": {},
   "outputs": [
    {
     "name": "stdout",
     "output_type": "stream",
     "text": [
      "Requirement already satisfied: munkres in c:\\users\\35796\\appdata\\local\\programs\\python\\python311\\lib\\site-packages (1.1.4)\n",
      "map: 0 --> 1\n",
      "map: 1 --> 0\n",
      "map: 2 --> 2\n",
      "Success Rate:  0.8866666666666667\n",
      "\n",
      "Confusion matrix: \n",
      " [[50  0  0]\n",
      " [ 0 47  3]\n",
      " [ 0 14 36]]\n"
     ]
    }
   ],
   "source": [
    "!pip install munkres\n",
    "from sklearn.metrics import confusion_matrix\n",
    "from sklearn.metrics import accuracy_score\n",
    "from munkres import Munkres\n",
    "\n",
    "def make_cost_matrix(c1, c2):\n",
    "    \"\"\"\n",
    "    \"\"\"\n",
    "    uc1 = np.unique(c1)\n",
    "    uc2 = np.unique(c2)\n",
    "    l1 = uc1.size\n",
    "    l2 = uc2.size\n",
    "    assert(l1 == l2 and np.all(uc1 == uc2))\n",
    "\n",
    "    m = np.ones([l1, l2])\n",
    "    for i in range(l1):\n",
    "        it_i = np.nonzero(c1 == uc1[i])[0]\n",
    "        for j in range(l2):\n",
    "            it_j = np.nonzero(c2 == uc2[j])[0]\n",
    "            m_ij = np.intersect1d(it_j, it_i)\n",
    "            m[i,j] =  -m_ij.size\n",
    "    return m\n",
    "\n",
    "def translate_clustering(clt, mapper):\n",
    "    return np.array([ mapper[i] for i in clt ])\n",
    "\n",
    "def translate_predicted_labels(predicted_y, y):\n",
    "    cost_matrix = make_cost_matrix(predicted_y, y)\n",
    "    m = Munkres()\n",
    "    indexes = m.compute(cost_matrix)\n",
    "    mapper = { old: new for (old, new) in indexes }\n",
    "\n",
    "    for old, new in mapper.items():\n",
    "        print(\"map: %s --> %s\" %(old, new))\n",
    "\n",
    "    translated_predicted_y = translate_clustering(predicted_y, mapper)\n",
    "    return translated_predicted_y\n",
    "\n",
    "y_pred = translate_predicted_labels(y_pred, true_labels)\n",
    "conf_matrix = confusion_matrix(true_labels, y_pred)\n",
    "accuracy = accuracy_score(true_labels, y_pred)\n",
    "\n",
    "print(\"Success Rate: \",accuracy)\n",
    "print()\n",
    "print(\"Confusion matrix: \\n\",conf_matrix)"
   ]
  },
  {
   "cell_type": "code",
   "execution_count": 222,
   "metadata": {},
   "outputs": [
    {
     "name": "stdout",
     "output_type": "stream",
     "text": [
      "   PetalLengthCm  PetalWidthCm\n",
      "0            1.4           0.2\n",
      "1            1.4           0.2\n",
      "2            1.3           0.2\n",
      "3            1.5           0.2\n",
      "4            1.4           0.2\n"
     ]
    }
   ],
   "source": [
    "data_2 = data.iloc[:, 3:5]\n",
    "print(data_2.head())"
   ]
  },
  {
   "cell_type": "code",
   "execution_count": 223,
   "metadata": {},
   "outputs": [
    {
     "name": "stdout",
     "output_type": "stream",
     "text": [
      "map: 0 --> 2\n",
      "map: 1 --> 0\n",
      "map: 2 --> 1\n",
      "Success Rate:  0.96\n",
      "\n",
      "Confusion matrix: \n",
      " [[50  0  0]\n",
      " [ 0 48  2]\n",
      " [ 0  4 46]]\n"
     ]
    }
   ],
   "source": [
    "y_pred_2, centers2 = kmeans(data_2,3,0.0001)\n",
    "y_pred_2 = np.array(y_pred_2)\n",
    "y_pred_2 = translate_predicted_labels(y_pred_2, true_labels)\n",
    "conf_matrix_2 = confusion_matrix(true_labels, y_pred_2)\n",
    "accuracy_2 = accuracy_score(true_labels, y_pred_2)\n",
    "\n",
    "print(\"Success Rate: \",accuracy_2)\n",
    "print()\n",
    "print(\"Confusion matrix: \\n\",conf_matrix_2)"
   ]
  },
  {
   "cell_type": "code",
   "execution_count": 224,
   "metadata": {},
   "outputs": [
    {
     "data": {
      "text/plain": [
       "Text(0, 0.5, 'Petal Width(cm)')"
      ]
     },
     "execution_count": 224,
     "metadata": {},
     "output_type": "execute_result"
    },
    {
     "data": {
      "image/png": "[encoded data removed]",
      "text/plain": [
       "<Figure size 640x480 with 1 Axes>"
      ]
     },
     "metadata": {},
     "output_type": "display_data"
    }
   ],
   "source": [
    "import matplotlib.pyplot as plt\n",
    "\n",
    "\n",
    "plt.scatter(data_2.iloc[:, 0], data_2.iloc[:, 1], c=y_pred_2)\n",
    "plt.scatter([centers2[i][0] for i in range(len(centers2))], [centers2[i][1] for i in range(len(centers2))], c='red', s=10)\n",
    "plt.xlabel('Petal Length(cm)')\n",
    "plt.ylabel('Petal Width(cm)')   \n"
   ]
  },
  {
   "cell_type": "markdown",
   "metadata": {},
   "source": [
    "Με κόκκινο χρώμα παρατηρούνται τα κέντρα των ομάδων ενώ με τα υπόλοιπα 3 χρώματα οι παρατηρήσεις που αντιστοιχούν σε κάθε ομάδα."
   ]
  },
  {
   "cell_type": "markdown",
   "metadata": {},
   "source": [
    "Εύκολα μπορούμε να παρατηρήσουμε πως το success rate χρησιμοποιώντας μόνο τα χαρακτηριστικά Petal Length και Petal Width είναι μεγαλύτερο σε σχέση με το success rate χρησιμοποιώντας και τα 4 χαρακτηριστικά. Αυτό μπορεί να οφείλετε σε πολλούς παράγοντες όπως στην παρουσία ακραίων τιμών και θορύβου στα 2 πρώτα χαρακτηριστικά(Sepal Length, Sepal Width) μιας και γνωρίζουμε πως ο αλγόριθμος K means είναι ευαίσθητος σε αυτά.\n",
    "\n",
    "Επίσης, μέσω του confusion matrix μπορούμε να παρατηρήσουμε πως και στις 2 περιπτώσεις, όλοι οι κρίνοι οι οποίοι είναι Iris Setosa ομαδοποιούνται σωστά, ενώ για τους κρίνους οι οποίοι είναι Iris Versicolour, 48 ομαδοποιούνται σωστά, ενώ 3 ανάγονται λανθασμένα στην ομάδα 3 για την πρώτη περίπτωση ενώ για την δεύτερη περίπτωση 47 ομαδοποιούνται σωστά και 2 ανάγονται λανθασμένα στην ομάδα 3. Στην πρώτη περίπτωση μπορούμε να παρατηρήσουμε πως για τους κρίνους οι οποίοι είναι Iris Virginica 36 ομαδοποιούνται σωστά ενώ 14 ομαδοποιούνται λανθασμένα στην ομάδα 2. Στην δεύτερη περίπτωση μπορούμε να παρατηρήσουμε πως για τους κρίνους οι οποίοι είναι Iris Virginica 46 ομαδοποιούνται σωστά ενώ 4 ομαδοποιούνται λάθος στην ομάδα 2. Παρατηρούμε, ότι στις 2 περιπτώσεις έχουμε ακριβώς ίδια απόδοση ομαδοποίησης για τις παρατηρήσεις που αποτελούν Iris Setosa με βάση το confusion matrix ενώ για τις παρατηρήσεις που αποτελούν Iris Versicolour και Iris Virginica έχουμε καλύτερη ομαδοποίηση στην δεύτερη περίπτωση. Αυτό μπορεί να οφείλετε σε πολλούς παράγοντες όπως στην παρουσία ακραίων τιμών και θορύβου στα 2 πρώτα χαρακτηριστικά(Sepal Length, Sepal Width) μιας και γνωρίζουμε πως ο αλγόριθμος K means είναι ευαίσθητος σε αυτά. Αφού μόνο στις παρατηρήσεις που αποτελούν Iris Virginica έχουμε πολύ διαφορετικά αποτελέσματα στις 2 ομαδοποιήσεις και μια όχι τόσο καλή ομαδοποίηση των στοιχείων της για την πρώτη περίπτωση τότε πολύ πιθανόν οι ακραίες τιμές ή ο θόρυβος να βρίσκονται σε μεγαλύτερο βαθμό στα 2 πρώτα χαρακτηριστικά των παρατηρήσεων που αποτελούν αυτό το είδος κρίνου."
   ]
  }
 ],
 "metadata": {
  "kernelspec": {
   "display_name": "Python 3",
   "language": "python",
   "name": "python3"
  },
  "language_info": {
   "codemirror_mode": {
    "name": "ipython",
    "version": 3
   },
   "file_extension": ".py",
   "mimetype": "text/x-python",
   "name": "python",
   "nbconvert_exporter": "python",
   "pygments_lexer": "ipython3",
   "version": "3.11.0"
  }
 },
 "nbformat": 4,
 "nbformat_minor": 2
}
